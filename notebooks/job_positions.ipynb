{
 "cells": [
  {
   "cell_type": "markdown",
   "id": "a710e4da-f9b5-4665-a955-c7b97bd714fc",
   "metadata": {},
   "source": [
    "## Setup"
   ]
  },
  {
   "cell_type": "code",
   "execution_count": 1,
   "id": "183a89af-a184-45ba-a646-37dc9b5237e2",
   "metadata": {},
   "outputs": [],
   "source": [
    "from collections import defaultdict\n",
    "import json\n",
    "from datetime import datetime\n",
    "import math"
   ]
  },
  {
   "cell_type": "code",
   "execution_count": 2,
   "id": "7ccd7917-d6fd-4b1f-93a0-172ae78be029",
   "metadata": {},
   "outputs": [
    {
     "data": {
      "text/plain": [
       "Index(['pub', 'pub_date', 'page_num', 'page_id', 'image_uri', 'uuid', 'label',\n",
       "       'ocr', 'ocr_without_lb', 'text', 'transkribus_pagenum',\n",
       "       'text_without_lb', 'position', 'position_cleaned'],\n",
       "      dtype='object')"
      ]
     },
     "execution_count": 2,
     "metadata": {},
     "output_type": "execute_result"
    }
   ],
   "source": [
    "import re\n",
    "import pandas as pd\n",
    "from tqdm.auto import tqdm\n",
    "pd.set_option('display.max_colwidth', 0)\n",
    "\n",
    "import networkx as nx\n",
    "from pyvis.network import Network\n",
    "df  = pd.read_csv(\"../data/positions_df.csv\")\n",
    "df.columns"
   ]
  },
  {
   "cell_type": "markdown",
   "id": "5c1adc03-4b51-4dab-8ffa-204ede600344",
   "metadata": {},
   "source": [
    "## Data cleanup"
   ]
  },
  {
   "cell_type": "code",
   "execution_count": 3,
   "id": "1f8a2129-692d-4c63-ba1e-2cad90335380",
   "metadata": {},
   "outputs": [],
   "source": [
    "POSITIONS_EXCLUDE = ['DFTTFF—',\n",
    " 'DPDwSf—', 'EEE', 'NRCCCCCOCT',\n",
    " 'FFur',\n",
    " 'BUEO', 'Ein', 'ININ',\n",
    " 'AVISO', 'Für','32⁰0⁰'\n",
    "]\n",
    "replace_list =  r'[\\d*,:.;—＋-]'\n",
    "def cleaned_up_position(position_str):\n",
    "    pos_list = eval(position_str)\n",
    "    pos_list_cleaned =[]\n",
    "    for p in pos_list:\n",
    "        if p in POSITIONS_EXCLUDE: continue\n",
    "        p_cleaned = re.sub(replace_list, '', p).strip()\n",
    "        if len(p)>2 and not p_cleaned.isnumeric():\n",
    "            pos_list_cleaned.append(p_cleaned)\n",
    "\n",
    "    if not pos_list_cleaned:\n",
    "        return [\"unknown\"]\n",
    "        \n",
    "    return pos_list_cleaned"
   ]
  },
  {
   "cell_type": "code",
   "execution_count": 4,
   "id": "ce1b9d05-741a-4afb-bb00-fc1ca6432042",
   "metadata": {},
   "outputs": [],
   "source": [
    "df[\"position_cleaned\"] = df.position.apply(cleaned_up_position)\n",
    "df.to_csv(\"../data/positions_df.csv\", index=False)"
   ]
  },
  {
   "cell_type": "markdown",
   "id": "5c1ae663-290f-4d32-b02e-b085a37bc036",
   "metadata": {
    "jp-MarkdownHeadingCollapsed": true
   },
   "source": [
    "## Create graph pyvis/networkx **too slow\n",
    "\n",
    "Create a node for every position and link ads that adverise for that position to the position node"
   ]
  },
  {
   "cell_type": "code",
   "execution_count": 5,
   "id": "ece449c5-ccfd-4fee-a929-5ecb476b2578",
   "metadata": {},
   "outputs": [
    {
     "data": {
      "application/vnd.jupyter.widget-view+json": {
       "model_id": "dd8a9bbc7ecc4dc6b796e69e57980582",
       "version_major": 2,
       "version_minor": 0
      },
      "text/plain": [
       "  0%|          | 0/14337 [00:00<?, ?it/s]"
      ]
     },
     "metadata": {},
     "output_type": "display_data"
    },
    {
     "name": "stdout",
     "output_type": "stream",
     "text": [
      "19359\n"
     ]
    }
   ],
   "source": [
    "G = nx.Graph()\n",
    "position_node_size = defaultdict(int)\n",
    "for i, row in tqdm(df.iterrows(), total=df.shape[0]):\n",
    "    G.add_node(row.uuid, label=row.page_id, group=row.label)\n",
    "    if row.position_cleaned:\n",
    "        # print(row.position)\n",
    "        for p in row.position_cleaned:\n",
    "            G.add_node(p, label=p, group=\"position\")\n",
    "            G.add_edge(row.uuid, p )\n",
    "print(len(G.nodes))"
   ]
  },
  {
   "cell_type": "code",
   "execution_count": 6,
   "id": "a2c94c30-0735-4880-94ee-98034a2fcb3a",
   "metadata": {},
   "outputs": [
    {
     "name": "stdout",
     "output_type": "stream",
     "text": [
      "Warning: When  cdn_resources is 'local' jupyter notebook has issues displaying graphics on chrome/safari. Use cdn_resources='in_line' or cdn_resources='remote' if you have issues viewing graphics in a notebook.\n",
      "preview.html\n"
     ]
    },
    {
     "data": {
      "text/html": [
       "\n",
       "        <iframe\n",
       "            width=\"100%\"\n",
       "            height=\"90vh\"\n",
       "            src=\"preview.html\"\n",
       "            frameborder=\"0\"\n",
       "            allowfullscreen\n",
       "            \n",
       "        ></iframe>\n",
       "        "
      ],
      "text/plain": [
       "<IPython.lib.display.IFrame at 0x7141f35858b0>"
      ]
     },
     "execution_count": 6,
     "metadata": {},
     "output_type": "execute_result"
    }
   ],
   "source": [
    "net = Network(notebook=True, height=\"90vh\", width=\"100%\", bgcolor=\"#222\", font_color=\"white\")\n",
    "net.from_nx(G)\n",
    "net.toggle_physics(False)\n",
    "net.show_buttons()\n",
    "# net.show(\"preview.html\")"
   ]
  },
  {
   "cell_type": "markdown",
   "id": "a7daf045-e86b-4a32-91be-3a2433fa22bb",
   "metadata": {},
   "source": [
    "## Create graph data in JSON\n",
    "\n",
    "```\n",
    "{\n",
    "  \"nodes\": [\n",
    "    {\"id\": \"1\", \"label\": \"Node 1\", \"group\": \"A\"},\n",
    "    {\"id\": \"2\", \"label\": \"Node 2\", \"group\": \"A\"},\n",
    "    {\"id\": \"3\", \"label\": \"Node 3\", \"group\": \"B\"}\n",
    "  ],\n",
    "  \"links\": [\n",
    "    {\"source\": \"1\", \"target\": \"2\"},\n",
    "    {\"source\": \"2\", \"target\": \"3\"},\n",
    "    {\"source\": \"1\", \"target\": \"3\"}\n",
    "  ]\n",
    "}\n",
    "```"
   ]
  },
  {
   "cell_type": "code",
   "execution_count": 5,
   "id": "f018782b-a47f-45ca-91b6-afd330582798",
   "metadata": {},
   "outputs": [
    {
     "data": {
      "application/vnd.jupyter.widget-view+json": {
       "model_id": "41a1e85b1b5342938277c5b39b8e7e14",
       "version_major": 2,
       "version_minor": 0
      },
      "text/plain": [
       "  0%|          | 0/14337 [00:00<?, ?it/s]"
      ]
     },
     "metadata": {},
     "output_type": "display_data"
    }
   ],
   "source": [
    "positions_added = []\n",
    "nodes_added = []\n",
    "nodes = []\n",
    "links = []\n",
    "for i, row in tqdm(df.iterrows(), total=df.shape[0]):\n",
    "    for p in row.position_cleaned:\n",
    "        if p not in positions_added:\n",
    "            nodes.append({\"id\": p, \"label\":p, \"group\":\"position\"})\n",
    "            positions_added.append(p)\n",
    "            \n",
    "        links.append({\"source\": p, \"target\": row.uuid})\n",
    "        if not row.uuid in nodes_added:\n",
    "            nodes.append({\"id\": row.uuid, \"label\":row.page_id, \"group\": row.label} )\n",
    "            nodes_added.append(row.uuid)\n"
   ]
  },
  {
   "cell_type": "markdown",
   "id": "685f5e54-880d-49bf-a88c-5c71a0e533b1",
   "metadata": {},
   "source": [
    "### Save JSON data to file"
   ]
  },
  {
   "cell_type": "code",
   "execution_count": 6,
   "id": "a7931bc1-1a9f-454e-8146-41ed1bb7e924",
   "metadata": {},
   "outputs": [],
   "source": [
    "with open(\"../data/data.json\", \"w\") as f:\n",
    "    f.write(json.dumps({\"nodes\": nodes, \"links\": links}))"
   ]
  },
  {
   "cell_type": "markdown",
   "id": "973ef1eb-35aa-40ae-b4dd-e13547ef9a04",
   "metadata": {},
   "source": [
    "## Create source and target pair for Cosmograph\n",
    "\n",
    "Graph data\n",
    "File that contains a list of graph edges records. It must have at least two columns representing source and target nodes correspondingly.\n",
    "\n",
    "If the records have time associated with them, you can provide that information in the time column. In that case an interactive timeline will be displayed below the graph.\n",
    "\n",
    "Extra columns can contain values for specifying link color and size. For example, if you want to specify a specific color for a specific link, you can create a column named color and provide hex (or any common color format) values there. Columns will be validated and the ones with incorrect content will be ignored.\n",
    "\n",
    "Supported formats: .csv, .tsv, .ssv\n",
    "\n",
    "Graph metadata\n",
    "Optional file that contains a list of nodes and corresponding values that can be used to set custom color and size of nodes. It must contain a column called id, matching entries from the main data file.\n",
    "\n",
    "Supported formats: .csv, .tsv, .ssv"
   ]
  },
  {
   "cell_type": "code",
   "execution_count": 20,
   "id": "66f6b62a-0731-4b77-9c43-d06a817b8de9",
   "metadata": {},
   "outputs": [
    {
     "data": {
      "application/vnd.jupyter.widget-view+json": {
       "model_id": "3fd35e3afb1f424d9d0c42eeefadb4d2",
       "version_major": 2,
       "version_minor": 0
      },
      "text/plain": [
       "  0%|          | 0/9681 [00:00<?, ?it/s]"
      ]
     },
     "metadata": {},
     "output_type": "display_data"
    }
   ],
   "source": [
    "node_colours = {\"job_search\": \"#ffcc66\",\n",
    "               \"job_offer\": \"#7fff7f\",\n",
    "               \"position\": \"#66b3ff\",\n",
    "               \"service_offer\":\"#ff6699\",\n",
    "               \"vermittlung\":\"#fdbf6f\",\n",
    "               \"heading\": \"#b3b3b3\"}\n",
    "nodes_added = []\n",
    "\n",
    "data = []\n",
    "metadata = []\n",
    "link_count = {}\n",
    "df = df.fillna(\"\")\n",
    "df = df[df.text_without_lb!=\"\"]\n",
    "df = df[df.label!=\"heading\"]\n",
    "for i, row in tqdm(df.iterrows(), total=df.shape[0]):\n",
    "    pub_date = datetime.strptime(f\"{row.pub_date}\", \"%Y%m%d\").date()\n",
    "    metadata.append({\"id\": row.uuid, \"label\":\"\", \"group\": row.label, \"color\": node_colours[row.label], \"pub\":row.pub, \"text\": row.text_without_lb, \"size\":2} )\n",
    "    for p in row.position_cleaned:\n",
    "        data.append({\"source\": p.lower(), \"target\": row.uuid, \"time\": row.pub_date})\n",
    "        if p.lower() not in nodes_added:\n",
    "            metadata.append({\"id\": p.lower(), \"label\":p, \"group\": \"position\", \"color\":node_colours[\"position\"], \"pub\": \"\", \"text\": \"\", \"size\":1 })\n",
    "            nodes_added.append(p.lower())\n",
    "            link_count[p.lower()] = 1\n",
    "        else:\n",
    "            # increase node size\n",
    "            link_count[p.lower()] += 1\n",
    "            next(item for item in metadata if item['id'] == p.lower())['size'] = 5+ math.log(link_count[p.lower()])\n",
    "        \n",
    "    \n"
   ]
  },
  {
   "cell_type": "code",
   "execution_count": 21,
   "id": "1ec995fa-2066-4153-80fc-fe9e185a60e2",
   "metadata": {},
   "outputs": [],
   "source": [
    "pd.DataFrame(data).to_csv(\"../data/cosmo_data.csv\", index=False)\n",
    "pd.DataFrame(metadata).to_csv(\"../data/cosmo_metadata.csv\", index=False)"
   ]
  },
  {
   "cell_type": "code",
   "execution_count": 22,
   "id": "9a0d9576-5aff-4b82-8a23-a5b1350ac390",
   "metadata": {},
   "outputs": [],
   "source": [
    "with open(\"../dataviz/cosmograph/data/nodes_links.ts\", \"w\") as f:\n",
    "    f.write(f\"\"\"export const nodes = {metadata};\n",
    "    export const links = {data};\n",
    "    \"\"\")"
   ]
  },
  {
   "cell_type": "code",
   "execution_count": 31,
   "id": "65f34bd5-3046-4239-8448-3a758ab34449",
   "metadata": {},
   "outputs": [
    {
     "data": {
      "text/plain": [
       "{'source': 'reisender',\n",
       " 'target': 'c28b8ff3-5581-495b-a449-149489a5398f',\n",
       " 'time': '19250906'}"
      ]
     },
     "execution_count": 31,
     "metadata": {},
     "output_type": "execute_result"
    }
   ],
   "source": [
    "data[0]"
   ]
  },
  {
   "cell_type": "code",
   "execution_count": 65,
   "id": "ec85fa5c-4ae3-44a3-bb82-0b921ccc21ca",
   "metadata": {
    "scrolled": true
   },
   "outputs": [
    {
     "name": "stdout",
     "output_type": "stream",
     "text": [
      "9c05424a-5357-43ac-8218-4e75a1e98333\n",
      "72b7d6a3-438f-4db0-8a5c-4edd0e28aa50\n",
      "18351bde-dfb5-45e3-8f77-55479a9e6405\n",
      "ab0d5d58-df5f-4dda-92bc-85a59c4ea6ce\n",
      "e670b2ca-1292-4e86-83dc-071ad84f9648\n",
      "38552a82-a91c-401e-852f-95a58e1a8c85\n"
     ]
    }
   ],
   "source": [
    "for row in data:\n",
    "    if \"familien\" in row[\"source\"].lower():\n",
    "        print(row[\"target\"])"
   ]
  },
  {
   "cell_type": "code",
   "execution_count": 66,
   "id": "457fbdfb-73a5-4c2d-88b0-3cea5f2ed4b7",
   "metadata": {},
   "outputs": [
    {
     "data": {
      "text/html": [
       "<div>\n",
       "<style scoped>\n",
       "    .dataframe tbody tr th:only-of-type {\n",
       "        vertical-align: middle;\n",
       "    }\n",
       "\n",
       "    .dataframe tbody tr th {\n",
       "        vertical-align: top;\n",
       "    }\n",
       "\n",
       "    .dataframe thead th {\n",
       "        text-align: right;\n",
       "    }\n",
       "</style>\n",
       "<table border=\"1\" class=\"dataframe\">\n",
       "  <thead>\n",
       "    <tr style=\"text-align: right;\">\n",
       "      <th></th>\n",
       "      <th>pub</th>\n",
       "      <th>pub_date</th>\n",
       "      <th>page_num</th>\n",
       "      <th>page_id</th>\n",
       "      <th>image_uri</th>\n",
       "      <th>uuid</th>\n",
       "      <th>label</th>\n",
       "      <th>ocr</th>\n",
       "      <th>ocr_without_lb</th>\n",
       "      <th>text</th>\n",
       "      <th>transkribus_pagenum</th>\n",
       "      <th>text_without_lb</th>\n",
       "      <th>position</th>\n",
       "      <th>position_cleaned</th>\n",
       "    </tr>\n",
       "  </thead>\n",
       "  <tbody>\n",
       "    <tr>\n",
       "      <th>1232</th>\n",
       "      <td>nwj</td>\n",
       "      <td>19080112</td>\n",
       "      <td>37</td>\n",
       "      <td>nwj_19080112_037</td>\n",
       "      <td>https://anno.onb.ac.at/cgi-content/annoshow?call=nwj|19080112|037|33.0|0</td>\n",
       "      <td>9c05424a-5357-43ac-8218-4e75a1e98333</td>\n",
       "      <td>job_search</td>\n",
       "      <td>Familienvater\\nbittet um irgend welche Schreibarbeit.\\nWar 3 Jahre ſchwer krank und befindet\\nſich mit ſeiner Frau und 7 kleinen\\nHindern in bitterſter Not. J. Leitner,\\n17. Bez., Kapitelgaſſe 4, 1. St., Tür 7.\\nö 4921—6.\\n</td>\n",
       "      <td>Familienvater bittet um irgend welche Schreibarbeit. War 3 Jahre ſchwer krank und befindet ſich mit ſeiner Frau und 7 kleinen Hindern in bitterſter Not. J. Leitner, 17. Bez., Kapitelgaſſe 4, 1. St., Tür 7. ö 4921—6.</td>\n",
       "      <td>Familienvater\\nbittet um irgend welche Schreibarbeit.\\nWar 3 Jahre ſchwer krank und befindet\\nſich mit ſeiner Frau und 7 kleinen\\nKindern in bitterſter Not. J. Leitner,\\n17. Bez., Kapitelgaſſe 4, 1. St., Tür 7.\\n4924—6\\n</td>\n",
       "      <td></td>\n",
       "      <td>Familienvater bittet um irgend welche Schreibarbeit. War 3 Jahre ſchwer krank und befindet ſich mit ſeiner Frau und 7 kleinen Kindern in bitterſter Not. J. Leitner, 17. Bez., Kapitelgaſſe 4, 1. St., Tür 7. 4924—6</td>\n",
       "      <td>['Familienvater']</td>\n",
       "      <td>[Familienvater]</td>\n",
       "    </tr>\n",
       "  </tbody>\n",
       "</table>\n",
       "</div>"
      ],
      "text/plain": [
       "      pub  pub_date  page_num           page_id  \\\n",
       "1232  nwj  19080112  37        nwj_19080112_037   \n",
       "\n",
       "                                                                     image_uri  \\\n",
       "1232  https://anno.onb.ac.at/cgi-content/annoshow?call=nwj|19080112|037|33.0|0   \n",
       "\n",
       "                                      uuid       label  \\\n",
       "1232  9c05424a-5357-43ac-8218-4e75a1e98333  job_search   \n",
       "\n",
       "                                                                                                                                                                                                                                  ocr  \\\n",
       "1232  Familienvater\\nbittet um irgend welche Schreibarbeit.\\nWar 3 Jahre ſchwer krank und befindet\\nſich mit ſeiner Frau und 7 kleinen\\nHindern in bitterſter Not. J. Leitner,\\n17. Bez., Kapitelgaſſe 4, 1. St., Tür 7.\\nö 4921—6.\\n   \n",
       "\n",
       "                                                                                                                                                                                                               ocr_without_lb  \\\n",
       "1232  Familienvater bittet um irgend welche Schreibarbeit. War 3 Jahre ſchwer krank und befindet ſich mit ſeiner Frau und 7 kleinen Hindern in bitterſter Not. J. Leitner, 17. Bez., Kapitelgaſſe 4, 1. St., Tür 7. ö 4921—6.   \n",
       "\n",
       "                                                                                                                                                                                                                              text  \\\n",
       "1232  Familienvater\\nbittet um irgend welche Schreibarbeit.\\nWar 3 Jahre ſchwer krank und befindet\\nſich mit ſeiner Frau und 7 kleinen\\nKindern in bitterſter Not. J. Leitner,\\n17. Bez., Kapitelgaſſe 4, 1. St., Tür 7.\\n4924—6\\n   \n",
       "\n",
       "     transkribus_pagenum  \\\n",
       "1232                       \n",
       "\n",
       "                                                                                                                                                                                                           text_without_lb  \\\n",
       "1232  Familienvater bittet um irgend welche Schreibarbeit. War 3 Jahre ſchwer krank und befindet ſich mit ſeiner Frau und 7 kleinen Kindern in bitterſter Not. J. Leitner, 17. Bez., Kapitelgaſſe 4, 1. St., Tür 7. 4924—6   \n",
       "\n",
       "               position position_cleaned  \n",
       "1232  ['Familienvater']  [Familienvater]  "
      ]
     },
     "execution_count": 66,
     "metadata": {},
     "output_type": "execute_result"
    }
   ],
   "source": [
    "df[df.uuid==\"9c05424a-5357-43ac-8218-4e75a1e98333\"]"
   ]
  },
  {
   "cell_type": "code",
   "execution_count": 67,
   "id": "52499649-f9f0-4837-8a67-7a3bce780020",
   "metadata": {},
   "outputs": [
    {
     "data": {
      "text/html": [
       "<div>\n",
       "<style scoped>\n",
       "    .dataframe tbody tr th:only-of-type {\n",
       "        vertical-align: middle;\n",
       "    }\n",
       "\n",
       "    .dataframe tbody tr th {\n",
       "        vertical-align: top;\n",
       "    }\n",
       "\n",
       "    .dataframe thead th {\n",
       "        text-align: right;\n",
       "    }\n",
       "</style>\n",
       "<table border=\"1\" class=\"dataframe\">\n",
       "  <thead>\n",
       "    <tr style=\"text-align: right;\">\n",
       "      <th></th>\n",
       "      <th>pub</th>\n",
       "      <th>pub_date</th>\n",
       "      <th>page_num</th>\n",
       "      <th>page_id</th>\n",
       "      <th>image_uri</th>\n",
       "      <th>uuid</th>\n",
       "      <th>label</th>\n",
       "      <th>ocr</th>\n",
       "      <th>ocr_without_lb</th>\n",
       "      <th>text</th>\n",
       "      <th>transkribus_pagenum</th>\n",
       "      <th>text_without_lb</th>\n",
       "      <th>position</th>\n",
       "      <th>position_cleaned</th>\n",
       "    </tr>\n",
       "  </thead>\n",
       "  <tbody>\n",
       "    <tr>\n",
       "      <th>1488</th>\n",
       "      <td>nwj</td>\n",
       "      <td>19000515</td>\n",
       "      <td>15</td>\n",
       "      <td>nwj_19000515_015</td>\n",
       "      <td>https://anno.onb.ac.at/cgi-content/annoshow?call=nwj|19000515|015|33.0|0</td>\n",
       "      <td>72b7d6a3-438f-4db0-8a5c-4edd0e28aa50</td>\n",
       "      <td>job_search</td>\n",
       "      <td>Familienvater\\nbranchekundig, ſchöne Schrift, pünktlich,\\nintelligent und ehrlich, bittet um irgend\\nwelchen Verdienſt, geht auch auswärts,\\neventuell übernimmt er Geſchäft auf\\nRechnung, wobei ihm ſeine Frau, die\\nauch vom Handelsſach iſt, tüchtig zur\\nSeite ſtehr. Jede Beſchäftigung wird\\nangenommen. Gefl. Anträge unter\\nttung 7586“ an die Admin. 7586 —6\\n</td>\n",
       "      <td>Familienvater branchekundig, ſchöne Schrift, pünktlich, intelligent und ehrlich, bittet um irgend welchen Verdienſt, geht auch auswärts, eventuell übernimmt er Geſchäft auf Rechnung, wobei ihm ſeine Frau, die auch vom Handelsſach iſt, tüchtig zur Seite ſtehr. Jede Beſchäftigung wird angenommen. Gefl. Anträge unter ttung 7586“ an die Admin. 7586 —6</td>\n",
       "      <td>Familienvater\\nbranchekundig, ſchöne Schrift, pünktlich,\\nintelligent und ehrlich, bittet um irgend\\nwelchen Verdienſt, geht auch auswärts,\\neventuell übernimmt er Geſchäft auf\\nRechnung, wobei ihm ſeine Frau, die\\nauch vom Handelsſach iſt, tüchtig zur\\nSeite ſtehr. Jede Beſchäftigung wird\\nangenommen. Gefl. Anträge unter\\n„Rettung 7586“ an die Admin. 7586—6\\n</td>\n",
       "      <td></td>\n",
       "      <td>Familienvater branchekundig, ſchöne Schrift, pünktlich, intelligent und ehrlich, bittet um irgend welchen Verdienſt, geht auch auswärts, eventuell übernimmt er Geſchäft auf Rechnung, wobei ihm ſeine Frau, die auch vom Handelsſach iſt, tüchtig zur Seite ſtehr. Jede Beſchäftigung wird angenommen. Gefl. Anträge unter „Rettung 7586“ an die Admin. 7586—6</td>\n",
       "      <td>['Familienvater']</td>\n",
       "      <td>[Familienvater]</td>\n",
       "    </tr>\n",
       "  </tbody>\n",
       "</table>\n",
       "</div>"
      ],
      "text/plain": [
       "      pub  pub_date  page_num           page_id  \\\n",
       "1488  nwj  19000515  15        nwj_19000515_015   \n",
       "\n",
       "                                                                     image_uri  \\\n",
       "1488  https://anno.onb.ac.at/cgi-content/annoshow?call=nwj|19000515|015|33.0|0   \n",
       "\n",
       "                                      uuid       label  \\\n",
       "1488  72b7d6a3-438f-4db0-8a5c-4edd0e28aa50  job_search   \n",
       "\n",
       "                                                                                                                                                                                                                                                                                                                                                                           ocr  \\\n",
       "1488  Familienvater\\nbranchekundig, ſchöne Schrift, pünktlich,\\nintelligent und ehrlich, bittet um irgend\\nwelchen Verdienſt, geht auch auswärts,\\neventuell übernimmt er Geſchäft auf\\nRechnung, wobei ihm ſeine Frau, die\\nauch vom Handelsſach iſt, tüchtig zur\\nSeite ſtehr. Jede Beſchäftigung wird\\nangenommen. Gefl. Anträge unter\\nttung 7586“ an die Admin. 7586 —6\\n   \n",
       "\n",
       "                                                                                                                                                                                                                                                                                                                                                     ocr_without_lb  \\\n",
       "1488  Familienvater branchekundig, ſchöne Schrift, pünktlich, intelligent und ehrlich, bittet um irgend welchen Verdienſt, geht auch auswärts, eventuell übernimmt er Geſchäft auf Rechnung, wobei ihm ſeine Frau, die auch vom Handelsſach iſt, tüchtig zur Seite ſtehr. Jede Beſchäftigung wird angenommen. Gefl. Anträge unter ttung 7586“ an die Admin. 7586 —6   \n",
       "\n",
       "                                                                                                                                                                                                                                                                                                                                                                            text  \\\n",
       "1488  Familienvater\\nbranchekundig, ſchöne Schrift, pünktlich,\\nintelligent und ehrlich, bittet um irgend\\nwelchen Verdienſt, geht auch auswärts,\\neventuell übernimmt er Geſchäft auf\\nRechnung, wobei ihm ſeine Frau, die\\nauch vom Handelsſach iſt, tüchtig zur\\nSeite ſtehr. Jede Beſchäftigung wird\\nangenommen. Gefl. Anträge unter\\n„Rettung 7586“ an die Admin. 7586—6\\n   \n",
       "\n",
       "     transkribus_pagenum  \\\n",
       "1488                       \n",
       "\n",
       "                                                                                                                                                                                                                                                                                                                                                      text_without_lb  \\\n",
       "1488  Familienvater branchekundig, ſchöne Schrift, pünktlich, intelligent und ehrlich, bittet um irgend welchen Verdienſt, geht auch auswärts, eventuell übernimmt er Geſchäft auf Rechnung, wobei ihm ſeine Frau, die auch vom Handelsſach iſt, tüchtig zur Seite ſtehr. Jede Beſchäftigung wird angenommen. Gefl. Anträge unter „Rettung 7586“ an die Admin. 7586—6   \n",
       "\n",
       "               position position_cleaned  \n",
       "1488  ['Familienvater']  [Familienvater]  "
      ]
     },
     "execution_count": 67,
     "metadata": {},
     "output_type": "execute_result"
    }
   ],
   "source": [
    "df[df.uuid==\"72b7d6a3-438f-4db0-8a5c-4edd0e28aa50\"]"
   ]
  },
  {
   "cell_type": "code",
   "execution_count": 14,
   "id": "b3fb18c9-605b-46e6-8a00-eb37975d1961",
   "metadata": {},
   "outputs": [
    {
     "data": {
      "text/plain": [
       "array([\"['Reisender']\", '[]', \"['Vertreter']\", ..., \"['Brottrüger']\",\n",
       "       \"['Müller']\", \"['Hausmagd']\"], dtype=object)"
      ]
     },
     "execution_count": 14,
     "metadata": {},
     "output_type": "execute_result"
    }
   ],
   "source": [
    "df.position.unique()"
   ]
  },
  {
   "cell_type": "code",
   "execution_count": 15,
   "id": "8788305e-3f29-4ce7-b514-b63dc457bb1a",
   "metadata": {},
   "outputs": [
    {
     "data": {
      "text/plain": [
       "Index(['pub', 'pub_date', 'page_num', 'page_id', 'image_uri', 'uuid', 'label',\n",
       "       'ocr', 'ocr_without_lb', 'text', 'transkribus_pagenum',\n",
       "       'text_without_lb', 'position', 'position_cleaned'],\n",
       "      dtype='object')"
      ]
     },
     "execution_count": 15,
     "metadata": {},
     "output_type": "execute_result"
    }
   ],
   "source": [
    "df.columns"
   ]
  },
  {
   "cell_type": "code",
   "execution_count": 24,
   "id": "b89eb94d-0610-4734-8a7f-9cb15b281ae4",
   "metadata": {},
   "outputs": [
    {
     "data": {
      "text/plain": [
       "array(['job_search', 'job_offer', 'service_offer', 'vermittlung'],\n",
       "      dtype=object)"
      ]
     },
     "execution_count": 24,
     "metadata": {},
     "output_type": "execute_result"
    }
   ],
   "source": [
    "df.label.unique()"
   ]
  },
  {
   "cell_type": "code",
   "execution_count": 23,
   "id": "0891873c-ef7d-40ad-8f41-50241d9e9ac3",
   "metadata": {},
   "outputs": [
    {
     "data": {
      "text/plain": [
       "0"
      ]
     },
     "execution_count": 23,
     "metadata": {},
     "output_type": "execute_result"
    }
   ],
   "source": [
    "df[df.label==\"heading\"].shape[0]"
   ]
  },
  {
   "cell_type": "code",
   "execution_count": null,
   "id": "56f79720-da0e-492e-9659-59b648ad35f5",
   "metadata": {},
   "outputs": [],
   "source": []
  }
 ],
 "metadata": {
  "kernelspec": {
   "display_name": "Python 3 (ipykernel)",
   "language": "python",
   "name": "python3"
  },
  "language_info": {
   "codemirror_mode": {
    "name": "ipython",
    "version": 3
   },
   "file_extension": ".py",
   "mimetype": "text/x-python",
   "name": "python",
   "nbconvert_exporter": "python",
   "pygments_lexer": "ipython3",
   "version": "3.10.12"
  }
 },
 "nbformat": 4,
 "nbformat_minor": 5
}
